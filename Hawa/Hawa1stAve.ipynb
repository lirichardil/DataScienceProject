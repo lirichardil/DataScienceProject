{
 "cells": [
  {
   "cell_type": "code",
   "execution_count": 1,
   "metadata": {},
   "outputs": [],
   "source": [
    "import pandas as pd\n",
    "import numpy as np"
   ]
  },
  {
   "cell_type": "code",
   "execution_count": 82,
   "metadata": {},
   "outputs": [
    {
     "data": {
      "text/html": [
       "<div>\n",
       "<style scoped>\n",
       "    .dataframe tbody tr th:only-of-type {\n",
       "        vertical-align: middle;\n",
       "    }\n",
       "\n",
       "    .dataframe tbody tr th {\n",
       "        vertical-align: top;\n",
       "    }\n",
       "\n",
       "    .dataframe thead th {\n",
       "        text-align: right;\n",
       "    }\n",
       "</style>\n",
       "<table border=\"1\" class=\"dataframe\">\n",
       "  <thead>\n",
       "    <tr style=\"text-align: right;\">\n",
       "      <th></th>\n",
       "      <th>18</th>\n",
       "    </tr>\n",
       "  </thead>\n",
       "  <tbody>\n",
       "    <tr>\n",
       "      <th>05/04/2023</th>\n",
       "      <td>$2,285.33</td>\n",
       "    </tr>\n",
       "    <tr>\n",
       "      <th>05/05/2023</th>\n",
       "      <td>$2,539.09</td>\n",
       "    </tr>\n",
       "    <tr>\n",
       "      <th>05/06/2023</th>\n",
       "      <td>$1,939.54</td>\n",
       "    </tr>\n",
       "    <tr>\n",
       "      <th>05/07/2023</th>\n",
       "      <td>$1,925.72</td>\n",
       "    </tr>\n",
       "    <tr>\n",
       "      <th>05/08/2023</th>\n",
       "      <td>$2,908.15</td>\n",
       "    </tr>\n",
       "  </tbody>\n",
       "</table>\n",
       "</div>"
      ],
      "text/plain": [
       "                   18\n",
       "05/04/2023  $2,285.33\n",
       "05/05/2023  $2,539.09\n",
       "05/06/2023  $1,939.54\n",
       "05/07/2023  $1,925.72\n",
       "05/08/2023  $2,908.15"
      ]
     },
     "execution_count": 82,
     "metadata": {},
     "output_type": "execute_result"
    }
   ],
   "source": [
    "hawa_sales = pd.read_csv(\"./Data/sales-summary-2023-05-04-2024-05-04.csv\")\n",
    "#hawa_sales = hawa_sales.transpose()\n",
    "hawa_sales\n",
    "hawa_sales = hawa_sales.iloc[18:,1:]\n",
    "hawa_sales = hawa_sales.transpose()\n",
    "hawa_sales.head()\n"
   ]
  },
  {
   "cell_type": "code",
   "execution_count": 90,
   "metadata": {},
   "outputs": [
    {
     "data": {
      "text/plain": [
       "Index(['Sales'], dtype='object')"
      ]
     },
     "execution_count": 90,
     "metadata": {},
     "output_type": "execute_result"
    }
   ],
   "source": [
    "\n",
    "hawa_sales.rename(columns={18: \"Sales\"},inplace=True)\n",
    "hawa_sales.columns\n",
    "\n"
   ]
  },
  {
   "cell_type": "code",
   "execution_count": 94,
   "metadata": {},
   "outputs": [
    {
     "data": {
      "text/html": [
       "<div>\n",
       "<style scoped>\n",
       "    .dataframe tbody tr th:only-of-type {\n",
       "        vertical-align: middle;\n",
       "    }\n",
       "\n",
       "    .dataframe tbody tr th {\n",
       "        vertical-align: top;\n",
       "    }\n",
       "\n",
       "    .dataframe thead th {\n",
       "        text-align: right;\n",
       "    }\n",
       "</style>\n",
       "<table border=\"1\" class=\"dataframe\">\n",
       "  <thead>\n",
       "    <tr style=\"text-align: right;\">\n",
       "      <th></th>\n",
       "      <th>Sales</th>\n",
       "    </tr>\n",
       "  </thead>\n",
       "  <tbody>\n",
       "    <tr>\n",
       "      <th>05/04/2023</th>\n",
       "      <td>$2,285.33</td>\n",
       "    </tr>\n",
       "    <tr>\n",
       "      <th>05/05/2023</th>\n",
       "      <td>$2,539.09</td>\n",
       "    </tr>\n",
       "    <tr>\n",
       "      <th>05/06/2023</th>\n",
       "      <td>$1,939.54</td>\n",
       "    </tr>\n",
       "    <tr>\n",
       "      <th>05/07/2023</th>\n",
       "      <td>$1,925.72</td>\n",
       "    </tr>\n",
       "    <tr>\n",
       "      <th>05/08/2023</th>\n",
       "      <td>$2,908.15</td>\n",
       "    </tr>\n",
       "    <tr>\n",
       "      <th>...</th>\n",
       "      <td>...</td>\n",
       "    </tr>\n",
       "    <tr>\n",
       "      <th>05/01/2024</th>\n",
       "      <td>$3,091.78</td>\n",
       "    </tr>\n",
       "    <tr>\n",
       "      <th>05/02/2024</th>\n",
       "      <td>$3,149.15</td>\n",
       "    </tr>\n",
       "    <tr>\n",
       "      <th>05/03/2024</th>\n",
       "      <td>$2,703.64</td>\n",
       "    </tr>\n",
       "    <tr>\n",
       "      <th>05/04/2024</th>\n",
       "      <td>$1,312.00</td>\n",
       "    </tr>\n",
       "    <tr>\n",
       "      <th>05/05/2024</th>\n",
       "      <td>$0.00</td>\n",
       "    </tr>\n",
       "  </tbody>\n",
       "</table>\n",
       "<p>368 rows × 1 columns</p>\n",
       "</div>"
      ],
      "text/plain": [
       "                Sales\n",
       "05/04/2023  $2,285.33\n",
       "05/05/2023  $2,539.09\n",
       "05/06/2023  $1,939.54\n",
       "05/07/2023  $1,925.72\n",
       "05/08/2023  $2,908.15\n",
       "...               ...\n",
       "05/01/2024  $3,091.78\n",
       "05/02/2024  $3,149.15\n",
       "05/03/2024  $2,703.64\n",
       "05/04/2024  $1,312.00\n",
       "05/05/2024      $0.00\n",
       "\n",
       "[368 rows x 1 columns]"
      ]
     },
     "execution_count": 94,
     "metadata": {},
     "output_type": "execute_result"
    }
   ],
   "source": [
    "hawa_sales.head()\n",
    "hawa_sales"
   ]
  },
  {
   "cell_type": "code",
   "execution_count": 95,
   "metadata": {},
   "outputs": [],
   "source": [
    "hawa_sales[\"Sales\"] = hawa_sales['Sales'].str.replace(\"[$,.]\", \"\", regex=True).astype(int)"
   ]
  },
  {
   "cell_type": "code",
   "execution_count": 98,
   "metadata": {},
   "outputs": [],
   "source": [
    "hawa_sales['Sales'] = hawa_sales['Sales'].divide(100)"
   ]
  },
  {
   "cell_type": "code",
   "execution_count": 104,
   "metadata": {},
   "outputs": [
    {
     "data": {
      "text/html": [
       "<div>\n",
       "<style scoped>\n",
       "    .dataframe tbody tr th:only-of-type {\n",
       "        vertical-align: middle;\n",
       "    }\n",
       "\n",
       "    .dataframe tbody tr th {\n",
       "        vertical-align: top;\n",
       "    }\n",
       "\n",
       "    .dataframe thead th {\n",
       "        text-align: right;\n",
       "    }\n",
       "</style>\n",
       "<table border=\"1\" class=\"dataframe\">\n",
       "  <thead>\n",
       "    <tr style=\"text-align: right;\">\n",
       "      <th></th>\n",
       "      <th>Sales</th>\n",
       "    </tr>\n",
       "  </thead>\n",
       "  <tbody>\n",
       "    <tr>\n",
       "      <th>05/04/2023</th>\n",
       "      <td>2285.33</td>\n",
       "    </tr>\n",
       "    <tr>\n",
       "      <th>05/05/2023</th>\n",
       "      <td>2539.09</td>\n",
       "    </tr>\n",
       "    <tr>\n",
       "      <th>05/06/2023</th>\n",
       "      <td>1939.54</td>\n",
       "    </tr>\n",
       "    <tr>\n",
       "      <th>05/07/2023</th>\n",
       "      <td>1925.72</td>\n",
       "    </tr>\n",
       "    <tr>\n",
       "      <th>05/08/2023</th>\n",
       "      <td>2908.15</td>\n",
       "    </tr>\n",
       "  </tbody>\n",
       "</table>\n",
       "</div>"
      ],
      "text/plain": [
       "              Sales\n",
       "05/04/2023  2285.33\n",
       "05/05/2023  2539.09\n",
       "05/06/2023  1939.54\n",
       "05/07/2023  1925.72\n",
       "05/08/2023  2908.15"
      ]
     },
     "execution_count": 104,
     "metadata": {},
     "output_type": "execute_result"
    }
   ],
   "source": [
    "hawa_sales.head()"
   ]
  },
  {
   "cell_type": "code",
   "execution_count": 111,
   "metadata": {},
   "outputs": [
    {
     "data": {
      "text/plain": [
       "(Sales    05/12/2023\n",
       " dtype: object,\n",
       " Sales    3708.32\n",
       " dtype: float64)"
      ]
     },
     "execution_count": 111,
     "metadata": {},
     "output_type": "execute_result"
    }
   ],
   "source": [
    "hawa_sales.idxmax(),hawa_sales.max()"
   ]
  },
  {
   "cell_type": "code",
   "execution_count": null,
   "metadata": {},
   "outputs": [],
   "source": []
  }
 ],
 "metadata": {
  "kernelspec": {
   "display_name": "Python 3",
   "language": "python",
   "name": "python3"
  },
  "language_info": {
   "codemirror_mode": {
    "name": "ipython",
    "version": 3
   },
   "file_extension": ".py",
   "mimetype": "text/x-python",
   "name": "python",
   "nbconvert_exporter": "python",
   "pygments_lexer": "ipython3",
   "version": "3.12.2"
  }
 },
 "nbformat": 4,
 "nbformat_minor": 2
}
